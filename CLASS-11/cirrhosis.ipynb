{
 "cells": [
  {
   "cell_type": "code",
   "execution_count": 1,
   "metadata": {},
   "outputs": [],
   "source": [
    "import pandas as pd\n",
    "import numpy as np \n",
    "import matplotlib.pyplot as plt \n",
    "import seaborn as sns\n",
    "sns.set()"
   ]
  },
  {
   "cell_type": "code",
   "execution_count": 2,
   "metadata": {},
   "outputs": [
    {
     "data": {
      "text/html": [
       "<div>\n",
       "<style scoped>\n",
       "    .dataframe tbody tr th:only-of-type {\n",
       "        vertical-align: middle;\n",
       "    }\n",
       "\n",
       "    .dataframe tbody tr th {\n",
       "        vertical-align: top;\n",
       "    }\n",
       "\n",
       "    .dataframe thead th {\n",
       "        text-align: right;\n",
       "    }\n",
       "</style>\n",
       "<table border=\"1\" class=\"dataframe\">\n",
       "  <thead>\n",
       "    <tr style=\"text-align: right;\">\n",
       "      <th></th>\n",
       "      <th>ID</th>\n",
       "      <th>N_Days</th>\n",
       "      <th>Status</th>\n",
       "      <th>Drug</th>\n",
       "      <th>Age</th>\n",
       "      <th>Sex</th>\n",
       "      <th>Ascites</th>\n",
       "      <th>Hepatomegaly</th>\n",
       "      <th>Spiders</th>\n",
       "      <th>Edema</th>\n",
       "      <th>Bilirubin</th>\n",
       "      <th>Cholesterol</th>\n",
       "      <th>Albumin</th>\n",
       "      <th>Copper</th>\n",
       "      <th>Alk_Phos</th>\n",
       "      <th>SGOT</th>\n",
       "      <th>Tryglicerides</th>\n",
       "      <th>Platelets</th>\n",
       "      <th>Prothrombin</th>\n",
       "      <th>Stage</th>\n",
       "    </tr>\n",
       "  </thead>\n",
       "  <tbody>\n",
       "    <tr>\n",
       "      <th>0</th>\n",
       "      <td>1</td>\n",
       "      <td>400</td>\n",
       "      <td>D</td>\n",
       "      <td>D-penicillamine</td>\n",
       "      <td>21464</td>\n",
       "      <td>F</td>\n",
       "      <td>Y</td>\n",
       "      <td>Y</td>\n",
       "      <td>Y</td>\n",
       "      <td>Y</td>\n",
       "      <td>14.5</td>\n",
       "      <td>261.0</td>\n",
       "      <td>2.60</td>\n",
       "      <td>156.0</td>\n",
       "      <td>1718.0</td>\n",
       "      <td>137.95</td>\n",
       "      <td>172.0</td>\n",
       "      <td>190.0</td>\n",
       "      <td>12.2</td>\n",
       "      <td>4.0</td>\n",
       "    </tr>\n",
       "    <tr>\n",
       "      <th>1</th>\n",
       "      <td>2</td>\n",
       "      <td>4500</td>\n",
       "      <td>C</td>\n",
       "      <td>D-penicillamine</td>\n",
       "      <td>20617</td>\n",
       "      <td>F</td>\n",
       "      <td>N</td>\n",
       "      <td>Y</td>\n",
       "      <td>Y</td>\n",
       "      <td>N</td>\n",
       "      <td>1.1</td>\n",
       "      <td>302.0</td>\n",
       "      <td>4.14</td>\n",
       "      <td>54.0</td>\n",
       "      <td>7394.8</td>\n",
       "      <td>113.52</td>\n",
       "      <td>88.0</td>\n",
       "      <td>221.0</td>\n",
       "      <td>10.6</td>\n",
       "      <td>3.0</td>\n",
       "    </tr>\n",
       "    <tr>\n",
       "      <th>2</th>\n",
       "      <td>3</td>\n",
       "      <td>1012</td>\n",
       "      <td>D</td>\n",
       "      <td>D-penicillamine</td>\n",
       "      <td>25594</td>\n",
       "      <td>M</td>\n",
       "      <td>N</td>\n",
       "      <td>N</td>\n",
       "      <td>N</td>\n",
       "      <td>S</td>\n",
       "      <td>1.4</td>\n",
       "      <td>176.0</td>\n",
       "      <td>3.48</td>\n",
       "      <td>210.0</td>\n",
       "      <td>516.0</td>\n",
       "      <td>96.10</td>\n",
       "      <td>55.0</td>\n",
       "      <td>151.0</td>\n",
       "      <td>12.0</td>\n",
       "      <td>4.0</td>\n",
       "    </tr>\n",
       "    <tr>\n",
       "      <th>3</th>\n",
       "      <td>4</td>\n",
       "      <td>1925</td>\n",
       "      <td>D</td>\n",
       "      <td>D-penicillamine</td>\n",
       "      <td>19994</td>\n",
       "      <td>F</td>\n",
       "      <td>N</td>\n",
       "      <td>Y</td>\n",
       "      <td>Y</td>\n",
       "      <td>S</td>\n",
       "      <td>1.8</td>\n",
       "      <td>244.0</td>\n",
       "      <td>2.54</td>\n",
       "      <td>64.0</td>\n",
       "      <td>6121.8</td>\n",
       "      <td>60.63</td>\n",
       "      <td>92.0</td>\n",
       "      <td>183.0</td>\n",
       "      <td>10.3</td>\n",
       "      <td>4.0</td>\n",
       "    </tr>\n",
       "    <tr>\n",
       "      <th>4</th>\n",
       "      <td>5</td>\n",
       "      <td>1504</td>\n",
       "      <td>CL</td>\n",
       "      <td>Placebo</td>\n",
       "      <td>13918</td>\n",
       "      <td>F</td>\n",
       "      <td>N</td>\n",
       "      <td>Y</td>\n",
       "      <td>Y</td>\n",
       "      <td>N</td>\n",
       "      <td>3.4</td>\n",
       "      <td>279.0</td>\n",
       "      <td>3.53</td>\n",
       "      <td>143.0</td>\n",
       "      <td>671.0</td>\n",
       "      <td>113.15</td>\n",
       "      <td>72.0</td>\n",
       "      <td>136.0</td>\n",
       "      <td>10.9</td>\n",
       "      <td>3.0</td>\n",
       "    </tr>\n",
       "  </tbody>\n",
       "</table>\n",
       "</div>"
      ],
      "text/plain": [
       "   ID  N_Days Status             Drug    Age Sex Ascites Hepatomegaly Spiders  \\\n",
       "0   1     400      D  D-penicillamine  21464   F       Y            Y       Y   \n",
       "1   2    4500      C  D-penicillamine  20617   F       N            Y       Y   \n",
       "2   3    1012      D  D-penicillamine  25594   M       N            N       N   \n",
       "3   4    1925      D  D-penicillamine  19994   F       N            Y       Y   \n",
       "4   5    1504     CL          Placebo  13918   F       N            Y       Y   \n",
       "\n",
       "  Edema  Bilirubin  Cholesterol  Albumin  Copper  Alk_Phos    SGOT  \\\n",
       "0     Y       14.5        261.0     2.60   156.0    1718.0  137.95   \n",
       "1     N        1.1        302.0     4.14    54.0    7394.8  113.52   \n",
       "2     S        1.4        176.0     3.48   210.0     516.0   96.10   \n",
       "3     S        1.8        244.0     2.54    64.0    6121.8   60.63   \n",
       "4     N        3.4        279.0     3.53   143.0     671.0  113.15   \n",
       "\n",
       "   Tryglicerides  Platelets  Prothrombin  Stage  \n",
       "0          172.0      190.0         12.2    4.0  \n",
       "1           88.0      221.0         10.6    3.0  \n",
       "2           55.0      151.0         12.0    4.0  \n",
       "3           92.0      183.0         10.3    4.0  \n",
       "4           72.0      136.0         10.9    3.0  "
      ]
     },
     "execution_count": 2,
     "metadata": {},
     "output_type": "execute_result"
    }
   ],
   "source": [
    "raw_data = pd.read_csv('cirrhosis.csv')\n",
    "raw_data.head()"
   ]
  },
  {
   "cell_type": "markdown",
   "metadata": {},
   "source": [
    "'Status' is the target. Let's move it to the end of the dataframe."
   ]
  },
  {
   "cell_type": "code",
   "execution_count": 3,
   "metadata": {},
   "outputs": [
    {
     "data": {
      "text/plain": [
       "array(['ID', 'N_Days', 'Status', 'Drug', 'Age', 'Sex', 'Ascites',\n",
       "       'Hepatomegaly', 'Spiders', 'Edema', 'Bilirubin', 'Cholesterol',\n",
       "       'Albumin', 'Copper', 'Alk_Phos', 'SGOT', 'Tryglicerides',\n",
       "       'Platelets', 'Prothrombin', 'Stage'], dtype=object)"
      ]
     },
     "execution_count": 3,
     "metadata": {},
     "output_type": "execute_result"
    }
   ],
   "source": [
    "raw_data.columns.values"
   ]
  },
  {
   "cell_type": "code",
   "execution_count": 5,
   "metadata": {},
   "outputs": [],
   "source": [
    "columns_reordered = ['ID', 'N_Days', 'Drug', 'Age', 'Sex', 'Ascites',\n",
    "       'Hepatomegaly', 'Spiders', 'Edema', 'Bilirubin', 'Cholesterol',\n",
    "       'Albumin', 'Copper', 'Alk_Phos', 'SGOT', 'Tryglicerides',\n",
    "       'Platelets', 'Prothrombin', 'Stage',  'Status']"
   ]
  },
  {
   "cell_type": "code",
   "execution_count": 6,
   "metadata": {},
   "outputs": [
    {
     "data": {
      "text/html": [
       "<div>\n",
       "<style scoped>\n",
       "    .dataframe tbody tr th:only-of-type {\n",
       "        vertical-align: middle;\n",
       "    }\n",
       "\n",
       "    .dataframe tbody tr th {\n",
       "        vertical-align: top;\n",
       "    }\n",
       "\n",
       "    .dataframe thead th {\n",
       "        text-align: right;\n",
       "    }\n",
       "</style>\n",
       "<table border=\"1\" class=\"dataframe\">\n",
       "  <thead>\n",
       "    <tr style=\"text-align: right;\">\n",
       "      <th></th>\n",
       "      <th>ID</th>\n",
       "      <th>N_Days</th>\n",
       "      <th>Drug</th>\n",
       "      <th>Age</th>\n",
       "      <th>Sex</th>\n",
       "      <th>Ascites</th>\n",
       "      <th>Hepatomegaly</th>\n",
       "      <th>Spiders</th>\n",
       "      <th>Edema</th>\n",
       "      <th>Bilirubin</th>\n",
       "      <th>Cholesterol</th>\n",
       "      <th>Albumin</th>\n",
       "      <th>Copper</th>\n",
       "      <th>Alk_Phos</th>\n",
       "      <th>SGOT</th>\n",
       "      <th>Tryglicerides</th>\n",
       "      <th>Platelets</th>\n",
       "      <th>Prothrombin</th>\n",
       "      <th>Stage</th>\n",
       "      <th>Status</th>\n",
       "    </tr>\n",
       "  </thead>\n",
       "  <tbody>\n",
       "    <tr>\n",
       "      <th>0</th>\n",
       "      <td>1</td>\n",
       "      <td>400</td>\n",
       "      <td>D-penicillamine</td>\n",
       "      <td>21464</td>\n",
       "      <td>F</td>\n",
       "      <td>Y</td>\n",
       "      <td>Y</td>\n",
       "      <td>Y</td>\n",
       "      <td>Y</td>\n",
       "      <td>14.5</td>\n",
       "      <td>261.0</td>\n",
       "      <td>2.60</td>\n",
       "      <td>156.0</td>\n",
       "      <td>1718.0</td>\n",
       "      <td>137.95</td>\n",
       "      <td>172.0</td>\n",
       "      <td>190.0</td>\n",
       "      <td>12.2</td>\n",
       "      <td>4.0</td>\n",
       "      <td>D</td>\n",
       "    </tr>\n",
       "    <tr>\n",
       "      <th>1</th>\n",
       "      <td>2</td>\n",
       "      <td>4500</td>\n",
       "      <td>D-penicillamine</td>\n",
       "      <td>20617</td>\n",
       "      <td>F</td>\n",
       "      <td>N</td>\n",
       "      <td>Y</td>\n",
       "      <td>Y</td>\n",
       "      <td>N</td>\n",
       "      <td>1.1</td>\n",
       "      <td>302.0</td>\n",
       "      <td>4.14</td>\n",
       "      <td>54.0</td>\n",
       "      <td>7394.8</td>\n",
       "      <td>113.52</td>\n",
       "      <td>88.0</td>\n",
       "      <td>221.0</td>\n",
       "      <td>10.6</td>\n",
       "      <td>3.0</td>\n",
       "      <td>C</td>\n",
       "    </tr>\n",
       "    <tr>\n",
       "      <th>2</th>\n",
       "      <td>3</td>\n",
       "      <td>1012</td>\n",
       "      <td>D-penicillamine</td>\n",
       "      <td>25594</td>\n",
       "      <td>M</td>\n",
       "      <td>N</td>\n",
       "      <td>N</td>\n",
       "      <td>N</td>\n",
       "      <td>S</td>\n",
       "      <td>1.4</td>\n",
       "      <td>176.0</td>\n",
       "      <td>3.48</td>\n",
       "      <td>210.0</td>\n",
       "      <td>516.0</td>\n",
       "      <td>96.10</td>\n",
       "      <td>55.0</td>\n",
       "      <td>151.0</td>\n",
       "      <td>12.0</td>\n",
       "      <td>4.0</td>\n",
       "      <td>D</td>\n",
       "    </tr>\n",
       "    <tr>\n",
       "      <th>3</th>\n",
       "      <td>4</td>\n",
       "      <td>1925</td>\n",
       "      <td>D-penicillamine</td>\n",
       "      <td>19994</td>\n",
       "      <td>F</td>\n",
       "      <td>N</td>\n",
       "      <td>Y</td>\n",
       "      <td>Y</td>\n",
       "      <td>S</td>\n",
       "      <td>1.8</td>\n",
       "      <td>244.0</td>\n",
       "      <td>2.54</td>\n",
       "      <td>64.0</td>\n",
       "      <td>6121.8</td>\n",
       "      <td>60.63</td>\n",
       "      <td>92.0</td>\n",
       "      <td>183.0</td>\n",
       "      <td>10.3</td>\n",
       "      <td>4.0</td>\n",
       "      <td>D</td>\n",
       "    </tr>\n",
       "    <tr>\n",
       "      <th>4</th>\n",
       "      <td>5</td>\n",
       "      <td>1504</td>\n",
       "      <td>Placebo</td>\n",
       "      <td>13918</td>\n",
       "      <td>F</td>\n",
       "      <td>N</td>\n",
       "      <td>Y</td>\n",
       "      <td>Y</td>\n",
       "      <td>N</td>\n",
       "      <td>3.4</td>\n",
       "      <td>279.0</td>\n",
       "      <td>3.53</td>\n",
       "      <td>143.0</td>\n",
       "      <td>671.0</td>\n",
       "      <td>113.15</td>\n",
       "      <td>72.0</td>\n",
       "      <td>136.0</td>\n",
       "      <td>10.9</td>\n",
       "      <td>3.0</td>\n",
       "      <td>CL</td>\n",
       "    </tr>\n",
       "  </tbody>\n",
       "</table>\n",
       "</div>"
      ],
      "text/plain": [
       "   ID  N_Days             Drug    Age Sex Ascites Hepatomegaly Spiders Edema  \\\n",
       "0   1     400  D-penicillamine  21464   F       Y            Y       Y     Y   \n",
       "1   2    4500  D-penicillamine  20617   F       N            Y       Y     N   \n",
       "2   3    1012  D-penicillamine  25594   M       N            N       N     S   \n",
       "3   4    1925  D-penicillamine  19994   F       N            Y       Y     S   \n",
       "4   5    1504          Placebo  13918   F       N            Y       Y     N   \n",
       "\n",
       "   Bilirubin  Cholesterol  Albumin  Copper  Alk_Phos    SGOT  Tryglicerides  \\\n",
       "0       14.5        261.0     2.60   156.0    1718.0  137.95          172.0   \n",
       "1        1.1        302.0     4.14    54.0    7394.8  113.52           88.0   \n",
       "2        1.4        176.0     3.48   210.0     516.0   96.10           55.0   \n",
       "3        1.8        244.0     2.54    64.0    6121.8   60.63           92.0   \n",
       "4        3.4        279.0     3.53   143.0     671.0  113.15           72.0   \n",
       "\n",
       "   Platelets  Prothrombin  Stage Status  \n",
       "0      190.0         12.2    4.0      D  \n",
       "1      221.0         10.6    3.0      C  \n",
       "2      151.0         12.0    4.0      D  \n",
       "3      183.0         10.3    4.0      D  \n",
       "4      136.0         10.9    3.0     CL  "
      ]
     },
     "execution_count": 6,
     "metadata": {},
     "output_type": "execute_result"
    }
   ],
   "source": [
    "data = raw_data.copy()\n",
    "data = data[columns_reordered]\n",
    "data.head()"
   ]
  },
  {
   "cell_type": "markdown",
   "metadata": {},
   "source": [
    "## Null value Handling"
   ]
  },
  {
   "cell_type": "code",
   "execution_count": 7,
   "metadata": {},
   "outputs": [
    {
     "name": "stdout",
     "output_type": "stream",
     "text": [
      "<class 'pandas.core.frame.DataFrame'>\n",
      "RangeIndex: 418 entries, 0 to 417\n",
      "Data columns (total 20 columns):\n",
      " #   Column         Non-Null Count  Dtype  \n",
      "---  ------         --------------  -----  \n",
      " 0   ID             418 non-null    int64  \n",
      " 1   N_Days         418 non-null    int64  \n",
      " 2   Drug           312 non-null    object \n",
      " 3   Age            418 non-null    int64  \n",
      " 4   Sex            418 non-null    object \n",
      " 5   Ascites        312 non-null    object \n",
      " 6   Hepatomegaly   312 non-null    object \n",
      " 7   Spiders        312 non-null    object \n",
      " 8   Edema          418 non-null    object \n",
      " 9   Bilirubin      418 non-null    float64\n",
      " 10  Cholesterol    284 non-null    float64\n",
      " 11  Albumin        418 non-null    float64\n",
      " 12  Copper         310 non-null    float64\n",
      " 13  Alk_Phos       312 non-null    float64\n",
      " 14  SGOT           312 non-null    float64\n",
      " 15  Tryglicerides  282 non-null    float64\n",
      " 16  Platelets      407 non-null    float64\n",
      " 17  Prothrombin    416 non-null    float64\n",
      " 18  Stage          412 non-null    float64\n",
      " 19  Status         418 non-null    object \n",
      "dtypes: float64(10), int64(3), object(7)\n",
      "memory usage: 65.4+ KB\n"
     ]
    }
   ],
   "source": [
    "data.info()"
   ]
  },
  {
   "cell_type": "markdown",
   "metadata": {},
   "source": [
    "There are 418 observations in the dataset."
   ]
  },
  {
   "cell_type": "code",
   "execution_count": 8,
   "metadata": {},
   "outputs": [],
   "source": [
    "data = data.drop('ID', axis=1)"
   ]
  },
  {
   "cell_type": "markdown",
   "metadata": {},
   "source": [
    "Let's find the total number of null values per feature "
   ]
  },
  {
   "cell_type": "code",
   "execution_count": 9,
   "metadata": {},
   "outputs": [
    {
     "data": {
      "text/plain": [
       "N_Days             0\n",
       "Drug             106\n",
       "Age                0\n",
       "Sex                0\n",
       "Ascites          106\n",
       "Hepatomegaly     106\n",
       "Spiders          106\n",
       "Edema              0\n",
       "Bilirubin          0\n",
       "Cholesterol      134\n",
       "Albumin            0\n",
       "Copper           108\n",
       "Alk_Phos         106\n",
       "SGOT             106\n",
       "Tryglicerides    136\n",
       "Platelets         11\n",
       "Prothrombin        2\n",
       "Stage              6\n",
       "Status             0\n",
       "dtype: int64"
      ]
     },
     "execution_count": 9,
     "metadata": {},
     "output_type": "execute_result"
    }
   ],
   "source": [
    "data.isnull().sum()"
   ]
  },
  {
   "cell_type": "markdown",
   "metadata": {},
   "source": [
    "Now, let's find these null values as a perteng of the total data."
   ]
  },
  {
   "cell_type": "code",
   "execution_count": 10,
   "metadata": {},
   "outputs": [
    {
     "data": {
      "text/plain": [
       "N_Days            0.000000\n",
       "Drug             25.358852\n",
       "Age               0.000000\n",
       "Sex               0.000000\n",
       "Ascites          25.358852\n",
       "Hepatomegaly     25.358852\n",
       "Spiders          25.358852\n",
       "Edema             0.000000\n",
       "Bilirubin         0.000000\n",
       "Cholesterol      32.057416\n",
       "Albumin           0.000000\n",
       "Copper           25.837321\n",
       "Alk_Phos         25.358852\n",
       "SGOT             25.358852\n",
       "Tryglicerides    32.535885\n",
       "Platelets         2.631579\n",
       "Prothrombin       0.478469\n",
       "Stage             1.435407\n",
       "Status            0.000000\n",
       "dtype: float64"
      ]
     },
     "execution_count": 10,
     "metadata": {},
     "output_type": "execute_result"
    }
   ],
   "source": [
    "(data.isnull().sum()/len(data))*100"
   ]
  },
  {
   "cell_type": "markdown",
   "metadata": {},
   "source": [
    "### What are the different approaches to null value handling?\n",
    "\n",
    "Approach 1: Drop the row that has missing values.\n",
    "\n",
    "Approach 2: Drop the entire column if most of the values in the column has missing values.\n",
    "\n",
    "Approach 3: Impute the missing data, that is, fill in the missing values with appropriate values.\n",
    "\n",
    "Approach 4: Use an ML algorithm that handles missing values on its own, internally (ex: XGBoost)."
   ]
  },
  {
   "cell_type": "markdown",
   "metadata": {},
   "source": [
    "#"
   ]
  },
  {
   "cell_type": "code",
   "execution_count": 11,
   "metadata": {},
   "outputs": [],
   "source": [
    "# dropping rows with null values\n",
    "\n",
    "updated_data = data.dropna(axis=0)"
   ]
  },
  {
   "cell_type": "code",
   "execution_count": 12,
   "metadata": {},
   "outputs": [
    {
     "name": "stdout",
     "output_type": "stream",
     "text": [
      "<class 'pandas.core.frame.DataFrame'>\n",
      "Int64Index: 276 entries, 0 to 311\n",
      "Data columns (total 19 columns):\n",
      " #   Column         Non-Null Count  Dtype  \n",
      "---  ------         --------------  -----  \n",
      " 0   N_Days         276 non-null    int64  \n",
      " 1   Drug           276 non-null    object \n",
      " 2   Age            276 non-null    int64  \n",
      " 3   Sex            276 non-null    object \n",
      " 4   Ascites        276 non-null    object \n",
      " 5   Hepatomegaly   276 non-null    object \n",
      " 6   Spiders        276 non-null    object \n",
      " 7   Edema          276 non-null    object \n",
      " 8   Bilirubin      276 non-null    float64\n",
      " 9   Cholesterol    276 non-null    float64\n",
      " 10  Albumin        276 non-null    float64\n",
      " 11  Copper         276 non-null    float64\n",
      " 12  Alk_Phos       276 non-null    float64\n",
      " 13  SGOT           276 non-null    float64\n",
      " 14  Tryglicerides  276 non-null    float64\n",
      " 15  Platelets      276 non-null    float64\n",
      " 16  Prothrombin    276 non-null    float64\n",
      " 17  Stage          276 non-null    float64\n",
      " 18  Status         276 non-null    object \n",
      "dtypes: float64(10), int64(2), object(7)\n",
      "memory usage: 43.1+ KB\n"
     ]
    }
   ],
   "source": [
    "updated_data.info()"
   ]
  },
  {
   "cell_type": "code",
   "execution_count": 13,
   "metadata": {},
   "outputs": [
    {
     "data": {
      "text/plain": [
       "33.97129186602871"
      ]
     },
     "execution_count": 13,
     "metadata": {},
     "output_type": "execute_result"
    }
   ],
   "source": [
    "((418-276)/418)*100"
   ]
  },
  {
   "cell_type": "markdown",
   "metadata": {},
   "source": [
    "We lose significant amount of data. Hence this is not a good method."
   ]
  },
  {
   "cell_type": "markdown",
   "metadata": {},
   "source": [
    "### Imputation"
   ]
  },
  {
   "cell_type": "markdown",
   "metadata": {},
   "source": [
    "**Approach 1:** Impute with a constant number \n",
    "\n",
    "a) For numeric data:\n",
    "\n",
    "-> Fill with 0 \n",
    "\n",
    "-> Mean of entire column excluding the missing values\n",
    "\n",
    "-> Median of entire column excluding the missing values\n",
    "\n",
    "-> Mean or median of only those rows (of the variable) that has the same value of Y as the missing.\n",
    "\n",
    "b) For categorical data:\n",
    "\n",
    "-> Fill with a new label\n",
    "\n",
    "-> Fill it with the most frequent data (mode)\n",
    "\n",
    "**Approach 2:** Predict the missing value with machine learning using other non-missing columns as predictors."
   ]
  },
  {
   "cell_type": "code",
   "execution_count": 14,
   "metadata": {},
   "outputs": [],
   "source": [
    "# filling with 0\n",
    "\n",
    "df_a1 = data.copy()"
   ]
  },
  {
   "cell_type": "code",
   "execution_count": 15,
   "metadata": {},
   "outputs": [
    {
     "name": "stdout",
     "output_type": "stream",
     "text": [
      "<class 'pandas.core.frame.DataFrame'>\n",
      "RangeIndex: 418 entries, 0 to 417\n",
      "Data columns (total 19 columns):\n",
      " #   Column         Non-Null Count  Dtype  \n",
      "---  ------         --------------  -----  \n",
      " 0   N_Days         418 non-null    int64  \n",
      " 1   Drug           312 non-null    object \n",
      " 2   Age            418 non-null    int64  \n",
      " 3   Sex            418 non-null    object \n",
      " 4   Ascites        312 non-null    object \n",
      " 5   Hepatomegaly   312 non-null    object \n",
      " 6   Spiders        312 non-null    object \n",
      " 7   Edema          418 non-null    object \n",
      " 8   Bilirubin      418 non-null    float64\n",
      " 9   Cholesterol    418 non-null    float64\n",
      " 10  Albumin        418 non-null    float64\n",
      " 11  Copper         418 non-null    float64\n",
      " 12  Alk_Phos       418 non-null    float64\n",
      " 13  SGOT           418 non-null    float64\n",
      " 14  Tryglicerides  418 non-null    float64\n",
      " 15  Platelets      418 non-null    float64\n",
      " 16  Prothrombin    418 non-null    float64\n",
      " 17  Stage          412 non-null    float64\n",
      " 18  Status         418 non-null    object \n",
      "dtypes: float64(10), int64(2), object(7)\n",
      "memory usage: 62.2+ KB\n"
     ]
    }
   ],
   "source": [
    "df_a1['Cholesterol'] = df_a1['Cholesterol'].fillna(0)\n",
    "df_a1['Copper'] = df_a1['Copper'].fillna(0)\n",
    "df_a1['Alk_Phos'] = df_a1['Alk_Phos'].fillna(0)\n",
    "df_a1['SGOT'] = df_a1['SGOT'].fillna(0)\n",
    "df_a1['Tryglicerides'] = df_a1['Tryglicerides'].fillna(0)\n",
    "df_a1['Platelets'] = df_a1['Platelets'].fillna(0)\n",
    "df_a1['Prothrombin'] = df_a1['Prothrombin'].fillna(0)\n",
    "\n",
    "df_a1.info()"
   ]
  },
  {
   "cell_type": "markdown",
   "metadata": {},
   "source": [
    "Now, we have a dataframe called **df_a1** that has all the missing values in numerical features filled with 0. Let's fill the missing values in categorical variables."
   ]
  },
  {
   "cell_type": "code",
   "execution_count": 16,
   "metadata": {},
   "outputs": [],
   "source": [
    "df_a1_b1 = df_a1.copy()"
   ]
  },
  {
   "cell_type": "code",
   "execution_count": 17,
   "metadata": {},
   "outputs": [
    {
     "name": "stdout",
     "output_type": "stream",
     "text": [
      "<class 'pandas.core.frame.DataFrame'>\n",
      "RangeIndex: 418 entries, 0 to 417\n",
      "Data columns (total 19 columns):\n",
      " #   Column         Non-Null Count  Dtype  \n",
      "---  ------         --------------  -----  \n",
      " 0   N_Days         418 non-null    int64  \n",
      " 1   Drug           418 non-null    object \n",
      " 2   Age            418 non-null    int64  \n",
      " 3   Sex            418 non-null    object \n",
      " 4   Ascites        418 non-null    object \n",
      " 5   Hepatomegaly   418 non-null    object \n",
      " 6   Spiders        418 non-null    object \n",
      " 7   Edema          418 non-null    object \n",
      " 8   Bilirubin      418 non-null    float64\n",
      " 9   Cholesterol    418 non-null    float64\n",
      " 10  Albumin        418 non-null    float64\n",
      " 11  Copper         418 non-null    float64\n",
      " 12  Alk_Phos       418 non-null    float64\n",
      " 13  SGOT           418 non-null    float64\n",
      " 14  Tryglicerides  418 non-null    float64\n",
      " 15  Platelets      418 non-null    float64\n",
      " 16  Prothrombin    418 non-null    float64\n",
      " 17  Stage          418 non-null    object \n",
      " 18  Status         418 non-null    object \n",
      "dtypes: float64(9), int64(2), object(8)\n",
      "memory usage: 62.2+ KB\n"
     ]
    }
   ],
   "source": [
    "# filling with new label\n",
    "\n",
    "df_a1_b1['Drug'] = df_a1_b1['Drug'].fillna('Empty')\n",
    "df_a1_b1['Ascites'] = df_a1_b1['Ascites'].fillna('Empty')\n",
    "df_a1_b1['Hepatomegaly'] = df_a1_b1['Hepatomegaly'].fillna('Empty')\n",
    "df_a1_b1['Spiders'] = df_a1_b1['Spiders'].fillna('Empty')\n",
    "df_a1_b1['Stage'] = df_a1_b1['Stage'].fillna('Empty')\n",
    "\n",
    "df_a1_b1.info()"
   ]
  },
  {
   "cell_type": "markdown",
   "metadata": {},
   "source": [
    "We have a dataframe called df_a1_b1 which has all the missing values in categorical features have been replaced by 'Empty', and in numerical features have been replaced by 0."
   ]
  },
  {
   "cell_type": "markdown",
   "metadata": {},
   "source": []
  },
  {
   "cell_type": "markdown",
   "metadata": {},
   "source": [
    "Replacing with mean for numerical features and replacing with the most frequent label for categorical features "
   ]
  },
  {
   "cell_type": "code",
   "execution_count": 18,
   "metadata": {},
   "outputs": [],
   "source": [
    "df_a2_b2 = data.copy()"
   ]
  },
  {
   "cell_type": "code",
   "execution_count": 19,
   "metadata": {},
   "outputs": [
    {
     "name": "stdout",
     "output_type": "stream",
     "text": [
      "<class 'pandas.core.frame.DataFrame'>\n",
      "RangeIndex: 418 entries, 0 to 417\n",
      "Data columns (total 19 columns):\n",
      " #   Column         Non-Null Count  Dtype  \n",
      "---  ------         --------------  -----  \n",
      " 0   N_Days         418 non-null    int64  \n",
      " 1   Drug           312 non-null    object \n",
      " 2   Age            418 non-null    int64  \n",
      " 3   Sex            418 non-null    object \n",
      " 4   Ascites        312 non-null    object \n",
      " 5   Hepatomegaly   312 non-null    object \n",
      " 6   Spiders        312 non-null    object \n",
      " 7   Edema          418 non-null    object \n",
      " 8   Bilirubin      418 non-null    float64\n",
      " 9   Cholesterol    284 non-null    float64\n",
      " 10  Albumin        418 non-null    float64\n",
      " 11  Copper         310 non-null    float64\n",
      " 12  Alk_Phos       312 non-null    float64\n",
      " 13  SGOT           312 non-null    float64\n",
      " 14  Tryglicerides  282 non-null    float64\n",
      " 15  Platelets      407 non-null    float64\n",
      " 16  Prothrombin    416 non-null    float64\n",
      " 17  Stage          412 non-null    float64\n",
      " 18  Status         418 non-null    object \n",
      "dtypes: float64(10), int64(2), object(7)\n",
      "memory usage: 62.2+ KB\n"
     ]
    }
   ],
   "source": [
    "data.info()"
   ]
  },
  {
   "cell_type": "code",
   "execution_count": 20,
   "metadata": {},
   "outputs": [
    {
     "name": "stdout",
     "output_type": "stream",
     "text": [
      "<class 'pandas.core.frame.DataFrame'>\n",
      "RangeIndex: 418 entries, 0 to 417\n",
      "Data columns (total 19 columns):\n",
      " #   Column         Non-Null Count  Dtype  \n",
      "---  ------         --------------  -----  \n",
      " 0   N_Days         418 non-null    int64  \n",
      " 1   Drug           312 non-null    object \n",
      " 2   Age            418 non-null    int64  \n",
      " 3   Sex            418 non-null    object \n",
      " 4   Ascites        312 non-null    object \n",
      " 5   Hepatomegaly   312 non-null    object \n",
      " 6   Spiders        312 non-null    object \n",
      " 7   Edema          418 non-null    object \n",
      " 8   Bilirubin      418 non-null    float64\n",
      " 9   Cholesterol    418 non-null    float64\n",
      " 10  Albumin        418 non-null    float64\n",
      " 11  Copper         418 non-null    float64\n",
      " 12  Alk_Phos       418 non-null    float64\n",
      " 13  SGOT           418 non-null    float64\n",
      " 14  Tryglicerides  418 non-null    float64\n",
      " 15  Platelets      418 non-null    float64\n",
      " 16  Prothrombin    418 non-null    float64\n",
      " 17  Stage          412 non-null    float64\n",
      " 18  Status         418 non-null    object \n",
      "dtypes: float64(10), int64(2), object(7)\n",
      "memory usage: 62.2+ KB\n"
     ]
    }
   ],
   "source": [
    "df_a2_b2['Cholesterol'] = df_a2_b2['Cholesterol'].fillna(data['Cholesterol'].mean())\n",
    "df_a2_b2['Copper'] = df_a2_b2['Copper'].fillna(data['Copper'].mean())\n",
    "df_a2_b2['Alk_Phos'] = df_a2_b2['Alk_Phos'].fillna(data['Alk_Phos'].mean())\n",
    "df_a2_b2['SGOT'] = df_a2_b2['SGOT'].fillna(data['SGOT'].mean())\n",
    "df_a2_b2['Tryglicerides'] = df_a2_b2['Tryglicerides'].fillna(data['Tryglicerides'].mean())\n",
    "df_a2_b2['Platelets'] = df_a2_b2['Platelets'].fillna(data['Platelets'].mean())\n",
    "df_a2_b2['Prothrombin'] = df_a2_b2['Prothrombin'].fillna(data['Prothrombin'].mean())\n",
    "\n",
    "df_a2_b2.info()"
   ]
  },
  {
   "cell_type": "code",
   "execution_count": 21,
   "metadata": {},
   "outputs": [],
   "source": [
    "df_a2_b2['Drug'] = df_a2_b2.fillna(df_a2_b2['Drug'].value_counts().index[0]) \n",
    "df_a2_b2['Ascites'] = df_a2_b2.fillna(df_a2_b2['Ascites'].value_counts().index[0]) \n",
    "df_a2_b2['Hepatomegaly'] = df_a2_b2.fillna(df_a2_b2['Hepatomegaly'].value_counts().index[0]) \n",
    "df_a2_b2['Spiders'] = df_a2_b2.fillna(df_a2_b2['Spiders'].value_counts().index[0]) \n",
    "df_a2_b2['Stage'] = df_a2_b2.fillna(df_a2_b2['Stage'].value_counts().index[0]) "
   ]
  },
  {
   "cell_type": "code",
   "execution_count": 22,
   "metadata": {},
   "outputs": [
    {
     "name": "stdout",
     "output_type": "stream",
     "text": [
      "<class 'pandas.core.frame.DataFrame'>\n",
      "RangeIndex: 418 entries, 0 to 417\n",
      "Data columns (total 19 columns):\n",
      " #   Column         Non-Null Count  Dtype  \n",
      "---  ------         --------------  -----  \n",
      " 0   N_Days         418 non-null    int64  \n",
      " 1   Drug           418 non-null    object \n",
      " 2   Age            418 non-null    int64  \n",
      " 3   Sex            418 non-null    object \n",
      " 4   Ascites        418 non-null    object \n",
      " 5   Hepatomegaly   418 non-null    object \n",
      " 6   Spiders        418 non-null    object \n",
      " 7   Edema          418 non-null    object \n",
      " 8   Bilirubin      418 non-null    float64\n",
      " 9   Cholesterol    418 non-null    float64\n",
      " 10  Albumin        418 non-null    float64\n",
      " 11  Copper         418 non-null    float64\n",
      " 12  Alk_Phos       418 non-null    float64\n",
      " 13  SGOT           418 non-null    float64\n",
      " 14  Tryglicerides  418 non-null    float64\n",
      " 15  Platelets      418 non-null    float64\n",
      " 16  Prothrombin    418 non-null    float64\n",
      " 17  Stage          418 non-null    object \n",
      " 18  Status         418 non-null    object \n",
      "dtypes: float64(9), int64(2), object(8)\n",
      "memory usage: 62.2+ KB\n"
     ]
    }
   ],
   "source": [
    "df_a2_b2.info()"
   ]
  },
  {
   "cell_type": "markdown",
   "metadata": {},
   "source": []
  },
  {
   "cell_type": "markdown",
   "metadata": {},
   "source": [
    "# Outlier Handling"
   ]
  },
  {
   "cell_type": "markdown",
   "metadata": {},
   "source": [
    "N_Days:"
   ]
  },
  {
   "cell_type": "code",
   "execution_count": null,
   "metadata": {},
   "outputs": [],
   "source": [
    "sns.boxplot(x=df_a2_b2['N_Days'])"
   ]
  },
  {
   "cell_type": "markdown",
   "metadata": {},
   "source": [
    "Age:"
   ]
  },
  {
   "cell_type": "code",
   "execution_count": null,
   "metadata": {},
   "outputs": [],
   "source": [
    "sns.boxplot(x=df_a2_b2['Age'])"
   ]
  },
  {
   "cell_type": "markdown",
   "metadata": {},
   "source": [
    "cholesterol:"
   ]
  },
  {
   "cell_type": "code",
   "execution_count": null,
   "metadata": {},
   "outputs": [],
   "source": [
    "sns.boxplot(x=df_a2_b2['Cholesterol'])"
   ]
  },
  {
   "cell_type": "code",
   "execution_count": null,
   "metadata": {},
   "outputs": [],
   "source": [
    "Q1 = df_a2_b2['Cholesterol'].quantile(0.25)\n",
    "Q3 = df_a2_b2['Cholesterol'].quantile(0.75)\n",
    "IQR = Q3 - Q1\n",
    "whisker_width = 1.5\n",
    "Cholesterol_outliers = df_a2_b2[(df_a2_b2['Cholesterol'] < Q1 - whisker_width*IQR) | (df_a2_b2['Cholesterol'] > Q3 + whisker_width*IQR)]\n",
    "Cholesterol_outliers.head()"
   ]
  },
  {
   "cell_type": "code",
   "execution_count": null,
   "metadata": {},
   "outputs": [],
   "source": [
    "Cholesterol_mean = df_a2_b2['Cholesterol'].mean()\n",
    "Cholesterol_std = df_a2_b2['Cholesterol'].std()\n",
    "low= Cholesterol_mean -(3 * Cholesterol_std)\n",
    "high= Cholesterol_mean + (3 * Cholesterol_std)\n",
    "Cholesterol_outliers = df_a2_b2[(df_a2_b2['Cholesterol'] < low) | (df_a2_b2['Cholesterol'] > high)]\n",
    "Cholesterol_outliers"
   ]
  },
  {
   "cell_type": "code",
   "execution_count": null,
   "metadata": {},
   "outputs": [],
   "source": [
    "df_a2_b2 = df_a2_b2.drop('Cholesterol', axis=1)"
   ]
  },
  {
   "cell_type": "markdown",
   "metadata": {},
   "source": [
    "Albumin:"
   ]
  },
  {
   "cell_type": "code",
   "execution_count": null,
   "metadata": {},
   "outputs": [],
   "source": [
    "sns.boxplot(x=df_a2_b2['Albumin'])"
   ]
  },
  {
   "cell_type": "code",
   "execution_count": null,
   "metadata": {},
   "outputs": [],
   "source": [
    "Q1 = df_a2_b2['Albumin'].quantile(0.25)\n",
    "Q3 = df_a2_b2['Albumin'].quantile(0.75)\n",
    "IQR = Q3 - Q1\n",
    "whisker_width = 1.5\n",
    "Albumin_outliers = df_a2_b2[(df_a2_b2['Albumin'] < Q1 - whisker_width*IQR) | (df_a2_b2['Albumin'] > Q3 + whisker_width*IQR)]\n",
    "Albumin_outliers.head()"
   ]
  },
  {
   "cell_type": "code",
   "execution_count": null,
   "metadata": {},
   "outputs": [],
   "source": [
    "Albumin_mean = df_a2_b2['Albumin'].mean()\n",
    "Albumin_std = df_a2_b2['Albumin'].std()\n",
    "low= Albumin_mean -(3 * Albumin_std)\n",
    "high= Albumin_mean + (3 * Albumin_std)\n",
    "Albumin_outliers = df_a2_b2[(df_a2_b2['Albumin'] < low) | (df_a2_b2['Albumin'] > high)]\n",
    "Albumin_outliers"
   ]
  },
  {
   "cell_type": "code",
   "execution_count": null,
   "metadata": {},
   "outputs": [],
   "source": [
    "Q1 = df_a2_b2['Albumin'].quantile(0.25)\n",
    "Q3 = df_a2_b2['Albumin'].quantile(0.75)\n",
    "IQR = Q3 - Q1\n",
    "whisker_width = 1.5\n",
    "lower_whisker = Q1 -(whisker_width*IQR)\n",
    "upper_whisker = Q3 + (whisker_width*IQR)\n",
    "df_a2_b2['Albumin']=np.where(df_a2_b2['Albumin']>upper_whisker,upper_whisker,\n",
    "                       np.where(df_a2_b2['Albumin']<lower_whisker,lower_whisker,\n",
    "                                df_a2_b2['Albumin']))"
   ]
  },
  {
   "cell_type": "code",
   "execution_count": null,
   "metadata": {},
   "outputs": [],
   "source": [
    "sns.boxplot(x=df_a2_b2['Albumin'])"
   ]
  },
  {
   "cell_type": "markdown",
   "metadata": {},
   "source": [
    "Copper:"
   ]
  },
  {
   "cell_type": "code",
   "execution_count": null,
   "metadata": {},
   "outputs": [],
   "source": [
    "sns.boxplot(x=df_a2_b2['Copper'])"
   ]
  },
  {
   "cell_type": "code",
   "execution_count": null,
   "metadata": {},
   "outputs": [],
   "source": [
    "Q1 = df_a2_b2['Copper'].quantile(0.25)\n",
    "Q3 = df_a2_b2['Copper'].quantile(0.75)\n",
    "IQR = Q3 - Q1\n",
    "whisker_width = 1.5\n",
    "Copper_outliers = df_a2_b2[(df_a2_b2['Copper'] < Q1 - whisker_width*IQR) | (df_a2_b2['Copper'] > Q3 + whisker_width*IQR)]\n",
    "Copper_outliers.head()"
   ]
  },
  {
   "cell_type": "code",
   "execution_count": null,
   "metadata": {},
   "outputs": [],
   "source": [
    "Copper_mean = df_a2_b2['Copper'].mean()\n",
    "Copper_std = df_a2_b2['Copper'].std()\n",
    "low= Copper_mean -(3 * Copper_std)\n",
    "high= Copper_mean + (3 * Copper_std)\n",
    "Copper_outliers = df_a2_b2[(df_a2_b2['Copper'] < low) | (df_a2_b2['Copper'] > high)]\n",
    "Copper_outliers"
   ]
  },
  {
   "cell_type": "code",
   "execution_count": null,
   "metadata": {},
   "outputs": [],
   "source": [
    "Q1 = df_a2_b2['Copper'].quantile(0.25)\n",
    "Q3 = df_a2_b2['Copper'].quantile(0.75)\n",
    "IQR = Q3 - Q1\n",
    "whisker_width = 1.5\n",
    "lower_whisker = Q1 -(whisker_width*IQR)\n",
    "upper_whisker = Q3 + (whisker_width*IQR)\n",
    "df_a2_b2['Copper']=np.where(df_a2_b2['Copper']>upper_whisker,upper_whisker,\n",
    "                       np.where(df_a2_b2['Copper']<lower_whisker,lower_whisker,\n",
    "                                df_a2_b2['Copper']))"
   ]
  },
  {
   "cell_type": "code",
   "execution_count": null,
   "metadata": {},
   "outputs": [],
   "source": [
    "sns.boxplot(x=df_a2_b2['Copper'])"
   ]
  },
  {
   "cell_type": "markdown",
   "metadata": {},
   "source": [
    "Alk_Phos:"
   ]
  },
  {
   "cell_type": "code",
   "execution_count": null,
   "metadata": {},
   "outputs": [],
   "source": [
    "sns.boxplot(x=df_a2_b2['Alk_Phos'])"
   ]
  },
  {
   "cell_type": "code",
   "execution_count": null,
   "metadata": {},
   "outputs": [],
   "source": [
    "Q1 = df_a2_b2['Alk_Phos'].quantile(0.25)\n",
    "Q3 = df_a2_b2['Alk_Phos'].quantile(0.75)\n",
    "IQR = Q3 - Q1\n",
    "whisker_width = 1.5\n",
    "Alk_Phos_outliers = df_a2_b2[(df_a2_b2['Alk_Phos'] < Q1 - whisker_width*IQR) | (df_a2_b2['Alk_Phos'] > Q3 + whisker_width*IQR)]\n",
    "Alk_Phos_outliers.head()"
   ]
  },
  {
   "cell_type": "code",
   "execution_count": null,
   "metadata": {},
   "outputs": [],
   "source": [
    "Alk_Phos_mean = df_a2_b2['Alk_Phos'].mean()\n",
    "Alk_Phos_std = df_a2_b2['Alk_Phos'].std()\n",
    "low= Alk_Phos_mean -(3 * Alk_Phos_std)\n",
    "high= Alk_Phos_mean + (3 * Alk_Phos_std)\n",
    "Alk_Phos_outliers = df_a2_b2[(df_a2_b2['Alk_Phos'] < low) | (df_a2_b2['Alk_Phos'] > high)]\n",
    "Alk_Phos_outliers"
   ]
  },
  {
   "cell_type": "code",
   "execution_count": null,
   "metadata": {},
   "outputs": [],
   "source": [
    "df_a2_b2 = df_a2_b2.drop('Alk_Phos', axis=1)"
   ]
  },
  {
   "cell_type": "markdown",
   "metadata": {},
   "source": [
    "SGOT:"
   ]
  },
  {
   "cell_type": "code",
   "execution_count": null,
   "metadata": {},
   "outputs": [],
   "source": [
    "sns.boxplot(x=df_a2_b2['SGOT'])"
   ]
  },
  {
   "cell_type": "code",
   "execution_count": null,
   "metadata": {},
   "outputs": [],
   "source": [
    "Q1 = df_a2_b2['SGOT'].quantile(0.25)\n",
    "Q3 = df_a2_b2['SGOT'].quantile(0.75)\n",
    "IQR = Q3 - Q1\n",
    "whisker_width = 1.5\n",
    "SGOT_outliers = df_a2_b2[(df_a2_b2['SGOT'] < Q1 - whisker_width*IQR) | (df_a2_b2['SGOT'] > Q3 + whisker_width*IQR)]\n",
    "SGOT_outliers.head()"
   ]
  },
  {
   "cell_type": "code",
   "execution_count": null,
   "metadata": {},
   "outputs": [],
   "source": [
    "SGOT_mean = df_a2_b2['SGOT'].mean()\n",
    "SGOT_std = df_a2_b2['SGOT'].std()\n",
    "low= SGOT_mean -(3 * SGOT_std)\n",
    "high= SGOT_mean + (3 * SGOT_std)\n",
    "SGOT_outliers = df_a2_b2[(df_a2_b2['SGOT'] < low) | (df_a2_b2['SGOT'] > high)]\n",
    "SGOT_outliers"
   ]
  },
  {
   "cell_type": "code",
   "execution_count": null,
   "metadata": {},
   "outputs": [],
   "source": [
    "Q1 = df_a2_b2['SGOT'].quantile(0.25)\n",
    "Q3 = df_a2_b2['SGOT'].quantile(0.75)\n",
    "IQR = Q3 - Q1\n",
    "whisker_width = 1.5\n",
    "lower_whisker = Q1 -(whisker_width*IQR)\n",
    "upper_whisker = Q3 + (whisker_width*IQR)\n",
    "df_a2_b2['SGOT']=np.where(df_a2_b2['SGOT']>upper_whisker,upper_whisker,\n",
    "                       np.where(df_a2_b2['SGOT']<lower_whisker,lower_whisker,\n",
    "                                df_a2_b2['SGOT']))"
   ]
  },
  {
   "cell_type": "code",
   "execution_count": null,
   "metadata": {},
   "outputs": [],
   "source": [
    "sns.boxplot(x=df_a2_b2['SGOT'])"
   ]
  },
  {
   "cell_type": "markdown",
   "metadata": {},
   "source": [
    "Tryglicerides:"
   ]
  },
  {
   "cell_type": "code",
   "execution_count": null,
   "metadata": {},
   "outputs": [],
   "source": [
    "sns.boxplot(x=df_a2_b2['Tryglicerides'])"
   ]
  },
  {
   "cell_type": "code",
   "execution_count": null,
   "metadata": {},
   "outputs": [],
   "source": [
    "Q1 = df_a2_b2['Tryglicerides'].quantile(0.25)\n",
    "Q3 = df_a2_b2['Tryglicerides'].quantile(0.75)\n",
    "IQR = Q3 - Q1\n",
    "whisker_width = 1.5\n",
    "Tryglicerides_outliers = df_a2_b2[(df_a2_b2['Tryglicerides'] < Q1 - whisker_width*IQR) | (df_a2_b2['Tryglicerides'] > Q3 + whisker_width*IQR)]\n",
    "Tryglicerides_outliers.head()"
   ]
  },
  {
   "cell_type": "code",
   "execution_count": null,
   "metadata": {},
   "outputs": [],
   "source": [
    "Tryglicerides_mean = df_a2_b2['Tryglicerides'].mean()\n",
    "Tryglicerides_std = df_a2_b2['Tryglicerides'].std()\n",
    "low= Tryglicerides_mean -(3 * Tryglicerides_std)\n",
    "high= Tryglicerides_mean + (3 * Tryglicerides_std)\n",
    "Tryglicerides_outliers = df_a2_b2[(df_a2_b2['Tryglicerides'] < low) | (df_a2_b2['Tryglicerides'] > high)]\n",
    "Tryglicerides_outliers"
   ]
  },
  {
   "cell_type": "code",
   "execution_count": null,
   "metadata": {},
   "outputs": [],
   "source": [
    "Q1 = df_a2_b2['Tryglicerides'].quantile(0.25)\n",
    "Q3 = df_a2_b2['Tryglicerides'].quantile(0.75)\n",
    "IQR = Q3 - Q1\n",
    "whisker_width = 1.5\n",
    "lower_whisker = Q1 -(whisker_width*IQR)\n",
    "upper_whisker = Q3 + (whisker_width*IQR)\n",
    "df_a2_b2['Tryglicerides']=np.where(df_a2_b2['Tryglicerides']>upper_whisker,upper_whisker,\n",
    "                       np.where(df_a2_b2['Tryglicerides']<lower_whisker,lower_whisker,\n",
    "                                df_a2_b2['Tryglicerides']))"
   ]
  },
  {
   "cell_type": "code",
   "execution_count": null,
   "metadata": {},
   "outputs": [],
   "source": [
    "sns.boxplot(x=df_a2_b2['Tryglicerides'])"
   ]
  },
  {
   "cell_type": "markdown",
   "metadata": {},
   "source": [
    "Platelets:"
   ]
  },
  {
   "cell_type": "code",
   "execution_count": null,
   "metadata": {},
   "outputs": [],
   "source": [
    "sns.boxplot(x=df_a2_b2['Platelets'])"
   ]
  },
  {
   "cell_type": "code",
   "execution_count": null,
   "metadata": {},
   "outputs": [],
   "source": [
    "Q1 = df_a2_b2['Platelets'].quantile(0.25)\n",
    "Q3 = df_a2_b2['Platelets'].quantile(0.75)\n",
    "IQR = Q3 - Q1\n",
    "whisker_width = 1.5\n",
    "Platelets_outliers = df_a2_b2[(df_a2_b2['Platelets'] < Q1 - whisker_width*IQR) | (df_a2_b2['Platelets'] > Q3 + whisker_width*IQR)]\n",
    "Platelets_outliers.head()"
   ]
  },
  {
   "cell_type": "code",
   "execution_count": null,
   "metadata": {},
   "outputs": [],
   "source": [
    "Platelets_mean = df_a2_b2['Platelets'].mean()\n",
    "Platelets_std = df_a2_b2['Platelets'].std()\n",
    "low= Platelets_mean -(3 * Platelets_std)\n",
    "high= Platelets_mean + (3 * Platelets_std)\n",
    "Platelets_outliers = df_a2_b2[(df_a2_b2['Platelets'] < low) | (df_a2_b2['Platelets'] > high)]\n",
    "Platelets_outliers"
   ]
  },
  {
   "cell_type": "code",
   "execution_count": null,
   "metadata": {},
   "outputs": [],
   "source": [
    "Q1 = df_a2_b2['Platelets'].quantile(0.25)\n",
    "Q3 = df_a2_b2['Platelets'].quantile(0.75)\n",
    "IQR = Q3 - Q1\n",
    "whisker_width = 1.5\n",
    "lower_whisker = Q1 -(whisker_width*IQR)\n",
    "upper_whisker = Q3 + (whisker_width*IQR)\n",
    "df_a2_b2['Platelets']=np.where(df_a2_b2['Platelets']>upper_whisker,upper_whisker,\n",
    "                       np.where(df_a2_b2['Platelets']<lower_whisker,lower_whisker,\n",
    "                                df_a2_b2['Platelets']))"
   ]
  },
  {
   "cell_type": "code",
   "execution_count": null,
   "metadata": {},
   "outputs": [],
   "source": [
    "sns.boxplot(x=df_a2_b2['Platelets'])"
   ]
  },
  {
   "cell_type": "markdown",
   "metadata": {},
   "source": [
    "Prothrombin:"
   ]
  },
  {
   "cell_type": "code",
   "execution_count": null,
   "metadata": {},
   "outputs": [],
   "source": [
    "sns.boxplot(x=df_a2_b2['Prothrombin'])"
   ]
  },
  {
   "cell_type": "code",
   "execution_count": null,
   "metadata": {},
   "outputs": [],
   "source": [
    "Q1 = df_a2_b2['Prothrombin'].quantile(0.25)\n",
    "Q3 = df_a2_b2['Prothrombin'].quantile(0.75)\n",
    "IQR = Q3 - Q1\n",
    "whisker_width = 1.5\n",
    "Prothrombin_outliers = df_a2_b2[(df_a2_b2['Prothrombin'] < Q1 - whisker_width*IQR) | (df_a2_b2['Prothrombin'] > Q3 + whisker_width*IQR)]\n",
    "Prothrombin_outliers.head()"
   ]
  },
  {
   "cell_type": "code",
   "execution_count": null,
   "metadata": {},
   "outputs": [],
   "source": [
    "Prothrombin_mean = df_a2_b2['Prothrombin'].mean()\n",
    "Prothrombin_std = df_a2_b2['Prothrombin'].std()\n",
    "low= Prothrombin_mean -(3 * Prothrombin_std)\n",
    "high= Prothrombin_mean + (3 * Prothrombin_std)\n",
    "Prothrombin_outliers = df_a2_b2[(df_a2_b2['Prothrombin'] < low) | (df_a2_b2['Prothrombin'] > high)]\n",
    "Prothrombin_outliers"
   ]
  },
  {
   "cell_type": "code",
   "execution_count": null,
   "metadata": {},
   "outputs": [],
   "source": [
    "Q1 = df_a2_b2['Prothrombin'].quantile(0.25)\n",
    "Q3 = df_a2_b2['Prothrombin'].quantile(0.75)\n",
    "IQR = Q3 - Q1\n",
    "whisker_width = 1.5\n",
    "lower_whisker = Q1 -(whisker_width*IQR)\n",
    "upper_whisker = Q3 + (whisker_width*IQR)\n",
    "df_a2_b2['Prothrombin']=np.where(df_a2_b2['Prothrombin']>upper_whisker,upper_whisker,\n",
    "                       np.where(df_a2_b2['Prothrombin']<lower_whisker,lower_whisker,\n",
    "                                df_a2_b2['Prothrombin']))"
   ]
  },
  {
   "cell_type": "code",
   "execution_count": null,
   "metadata": {},
   "outputs": [],
   "source": [
    "sns.boxplot(x=df_a2_b2['Prothrombin'])"
   ]
  },
  {
   "cell_type": "markdown",
   "metadata": {},
   "source": [
    "# Save the cleaned data as a csv file"
   ]
  },
  {
   "cell_type": "code",
   "execution_count": null,
   "metadata": {},
   "outputs": [],
   "source": [
    "df_a2_b2.to_csv('data_cleaned.csv', index=False)"
   ]
  },
  {
   "cell_type": "code",
   "execution_count": null,
   "metadata": {},
   "outputs": [],
   "source": [
    "df = pd.read_csv('data_cleaned.csv')"
   ]
  },
  {
   "cell_type": "code",
   "execution_count": null,
   "metadata": {},
   "outputs": [],
   "source": [
    "df.head()"
   ]
  },
  {
   "cell_type": "code",
   "execution_count": null,
   "metadata": {},
   "outputs": [],
   "source": [
    "df.info()"
   ]
  }
 ],
 "metadata": {
  "kernelspec": {
   "display_name": "myenv",
   "language": "python",
   "name": "python3"
  },
  "language_info": {
   "codemirror_mode": {
    "name": "ipython",
    "version": 3
   },
   "file_extension": ".py",
   "mimetype": "text/x-python",
   "name": "python",
   "nbconvert_exporter": "python",
   "pygments_lexer": "ipython3",
   "version": "3.7.6"
  }
 },
 "nbformat": 4,
 "nbformat_minor": 2
}
