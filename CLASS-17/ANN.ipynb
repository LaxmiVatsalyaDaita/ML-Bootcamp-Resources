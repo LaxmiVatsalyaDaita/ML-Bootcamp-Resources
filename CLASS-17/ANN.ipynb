{
 "cells": [
  {
   "cell_type": "code",
   "execution_count": 1,
   "metadata": {},
   "outputs": [
    {
     "name": "stdout",
     "output_type": "stream",
     "text": [
      "WARNING:tensorflow:From c:\\Users\\Vatsu.Daita\\.conda\\envs\\py3115\\Lib\\site-packages\\keras\\src\\losses.py:2976: The name tf.losses.sparse_softmax_cross_entropy is deprecated. Please use tf.compat.v1.losses.sparse_softmax_cross_entropy instead.\n",
      "\n"
     ]
    }
   ],
   "source": [
    "import tensorflow as tf\n",
    "import numpy as np\n",
    "import pandas as pd\n",
    "import matplotlib.pyplot as plt\n",
    "import seaborn as sns\n",
    "sns.set()"
   ]
  },
  {
   "cell_type": "code",
   "execution_count": 2,
   "metadata": {},
   "outputs": [],
   "source": [
    "raw_csv_data = np.loadtxt('data_preprocessed.csv', delimiter=',')\n",
    "inputs_all = raw_csv_data[:,1:-1]\n",
    "targets_all = raw_csv_data[:,-1]"
   ]
  },
  {
   "cell_type": "code",
   "execution_count": 3,
   "metadata": {},
   "outputs": [],
   "source": [
    "# shuffle\n",
    "shuffled_indices = np.arange(inputs_all.shape[0])\n",
    "np.random.shuffle(shuffled_indices)\n",
    "\n",
    "shuffled_inputs = inputs_all[shuffled_indices]\n",
    "shuffled_targets = targets_all[shuffled_indices]"
   ]
  },
  {
   "cell_type": "code",
   "execution_count": 4,
   "metadata": {},
   "outputs": [
    {
     "name": "stdout",
     "output_type": "stream",
     "text": [
      "1.0267558528428093\n",
      "0.8918918918918919\n",
      "0.9210526315789473\n"
     ]
    }
   ],
   "source": [
    "samples_count = shuffled_inputs.shape[0]\n",
    "\n",
    "train_samples_count = int(0.8*samples_count)\n",
    "validation_samples_count = int(0.1*samples_count)\n",
    "test_samples_count = samples_count - train_samples_count - validation_samples_count\n",
    "\n",
    "train_inputs = shuffled_inputs[:train_samples_count]\n",
    "train_targets = shuffled_targets[:train_samples_count]\n",
    "\n",
    "validation_inputs = shuffled_inputs[train_samples_count:train_samples_count+validation_samples_count]\n",
    "validation_targets = shuffled_targets[train_samples_count:train_samples_count+validation_samples_count]\n",
    "\n",
    "test_inputs = shuffled_inputs[train_samples_count+validation_samples_count:]\n",
    "test_targets = shuffled_targets[train_samples_count+validation_samples_count:]\n",
    "\n",
    "print(np.sum(train_targets)/train_samples_count)\n",
    "print(np.sum(validation_targets)/validation_samples_count)\n",
    "print(np.sum(test_targets)/test_samples_count)"
   ]
  },
  {
   "cell_type": "code",
   "execution_count": 5,
   "metadata": {},
   "outputs": [],
   "source": [
    "np.savez('data_train',inputs=train_inputs, targets=train_targets)\n",
    "np.savez('data_validation',inputs=validation_inputs, targets=validation_targets)\n",
    "np.savez('data_test',inputs=test_inputs, targets=test_targets)"
   ]
  },
  {
   "cell_type": "markdown",
   "metadata": {},
   "source": [
    "# Loading the train, validation and test data as tensors"
   ]
  },
  {
   "cell_type": "code",
   "execution_count": 6,
   "metadata": {},
   "outputs": [],
   "source": [
    "npz = np.load('data_train.npz')\n",
    "train_inputs = npz['inputs'].astype(float)\n",
    "train_targets = npz['targets'].astype(int)\n",
    "\n",
    "\n",
    "npz = np.load('data_validation.npz')\n",
    "validation_inputs, validation_targets = npz['inputs'].astype(float), npz['targets'].astype(int)\n",
    "\n",
    "npz = np.load('data_test.npz')\n",
    "test_inputs, test_targets = npz['inputs'].astype(float), npz['targets'].astype(int)\n"
   ]
  },
  {
   "cell_type": "markdown",
   "metadata": {},
   "source": [
    "# Creating the Neural Network"
   ]
  },
  {
   "cell_type": "code",
   "execution_count": 7,
   "metadata": {},
   "outputs": [
    {
     "name": "stdout",
     "output_type": "stream",
     "text": [
      "WARNING:tensorflow:From c:\\Users\\Vatsu.Daita\\.conda\\envs\\py3115\\Lib\\site-packages\\keras\\src\\backend.py:873: The name tf.get_default_graph is deprecated. Please use tf.compat.v1.get_default_graph instead.\n",
      "\n",
      "WARNING:tensorflow:From c:\\Users\\Vatsu.Daita\\.conda\\envs\\py3115\\Lib\\site-packages\\keras\\src\\optimizers\\__init__.py:309: The name tf.train.Optimizer is deprecated. Please use tf.compat.v1.train.Optimizer instead.\n",
      "\n",
      "Epoch 1/100\n",
      "WARNING:tensorflow:From c:\\Users\\Vatsu.Daita\\.conda\\envs\\py3115\\Lib\\site-packages\\keras\\src\\utils\\tf_utils.py:492: The name tf.ragged.RaggedTensorValue is deprecated. Please use tf.compat.v1.ragged.RaggedTensorValue instead.\n",
      "\n",
      "WARNING:tensorflow:From c:\\Users\\Vatsu.Daita\\.conda\\envs\\py3115\\Lib\\site-packages\\keras\\src\\engine\\base_layer_utils.py:384: The name tf.executing_eagerly_outside_functions is deprecated. Please use tf.compat.v1.executing_eagerly_outside_functions instead.\n",
      "\n",
      "6/6 - 4s - loss: 61.1375 - accuracy: 0.4047 - val_loss: 28.6259 - val_accuracy: 0.7297 - 4s/epoch - 716ms/step\n",
      "Epoch 2/100\n",
      "6/6 - 0s - loss: 39.0704 - accuracy: 0.4013 - val_loss: 24.3073 - val_accuracy: 0.1892 - 69ms/epoch - 12ms/step\n",
      "Epoch 3/100\n",
      "6/6 - 0s - loss: 29.7060 - accuracy: 0.4983 - val_loss: 30.9484 - val_accuracy: 0.0811 - 103ms/epoch - 17ms/step\n",
      "Epoch 4/100\n",
      "6/6 - 0s - loss: 20.6626 - accuracy: 0.2943 - val_loss: 15.2833 - val_accuracy: 0.7297 - 166ms/epoch - 28ms/step\n",
      "Epoch 5/100\n",
      "6/6 - 0s - loss: 19.9273 - accuracy: 0.4950 - val_loss: 18.3695 - val_accuracy: 0.1892 - 65ms/epoch - 11ms/step\n",
      "Epoch 6/100\n",
      "6/6 - 0s - loss: 10.2700 - accuracy: 0.4314 - val_loss: 3.9321 - val_accuracy: 0.7297 - 98ms/epoch - 16ms/step\n",
      "Epoch 7/100\n",
      "6/6 - 0s - loss: 14.1492 - accuracy: 0.4247 - val_loss: 12.8375 - val_accuracy: 0.1351 - 145ms/epoch - 24ms/step\n",
      "Epoch 8/100\n",
      "6/6 - 0s - loss: 15.2710 - accuracy: 0.4749 - val_loss: 15.3605 - val_accuracy: 0.2432 - 76ms/epoch - 13ms/step\n"
     ]
    },
    {
     "data": {
      "text/plain": [
       "<keras.src.callbacks.History at 0x1f48a59a290>"
      ]
     },
     "execution_count": 7,
     "metadata": {},
     "output_type": "execute_result"
    }
   ],
   "source": [
    "input_size = 12 # 12 predictors in data\n",
    "output_size = 3 # 3 output labels\n",
    "hidden_layer_size = 50\n",
    "\n",
    "model = tf.keras.Sequential([\n",
    "    tf.keras.layers.Dense(hidden_layer_size, activation='relu'), #hidden layer 1\n",
    "    tf.keras.layers.Dense(hidden_layer_size, activation='relu'), #hidden layer 2\n",
    "    tf.keras.layers.Dense(hidden_layer_size, activation='relu'), #hidden layer 3\n",
    "    tf.keras.layers.Dense(output_size, activation='softmax') # output layer; we use softmax activation as we need probabilities as the output\n",
    "    ])\n",
    "\n",
    "model.compile(optimizer='adam',\n",
    "              loss='sparse_categorical_crossentropy',\n",
    "              metrics=['accuracy']\n",
    "              )\n",
    "\n",
    "batch_size = 50\n",
    "max_epochs = 100\n",
    "early_stopping = tf.keras.callbacks.EarlyStopping(patience = 2)\n",
    "\n",
    "model.fit(train_inputs, train_targets,\n",
    "          batch_size = batch_size,\n",
    "          epochs = max_epochs,\n",
    "          callbacks = [early_stopping],\n",
    "          validation_data = (validation_inputs, validation_targets),\n",
    "          verbose = 2\n",
    "          )"
   ]
  },
  {
   "cell_type": "code",
   "execution_count": 8,
   "metadata": {},
   "outputs": [
    {
     "name": "stdout",
     "output_type": "stream",
     "text": [
      "2/2 [==============================] - 0s 17ms/step - loss: 12.0675 - accuracy: 0.3421\n",
      "test loss: 12.07 test accuracy: 34.21%\n"
     ]
    }
   ],
   "source": [
    "# testing\n",
    "\n",
    "test_loss, test_accuracy = model.evaluate(test_inputs, test_targets)\n",
    "print('test loss: {0:.2f} test accuracy: {1:.2f}%'.format(test_loss, test_accuracy*100.))"
   ]
  }
 ],
 "metadata": {
  "kernelspec": {
   "display_name": "py3115",
   "language": "python",
   "name": "python3"
  },
  "language_info": {
   "codemirror_mode": {
    "name": "ipython",
    "version": 3
   },
   "file_extension": ".py",
   "mimetype": "text/x-python",
   "name": "python",
   "nbconvert_exporter": "python",
   "pygments_lexer": "ipython3",
   "version": "3.11.5"
  }
 },
 "nbformat": 4,
 "nbformat_minor": 2
}
